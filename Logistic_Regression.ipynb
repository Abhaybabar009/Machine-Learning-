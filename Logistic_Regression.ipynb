{
  "cells": [
    {
      "cell_type": "markdown",
      "metadata": {
        "colab_type": "text",
        "id": "view-in-github"
      },
      "source": [
        "<a href=\"https://colab.research.google.com/github/atharvchothe/Machine-Learning/blob/main/Logistic_Regression.ipynb\" target=\"_parent\"><img src=\"https://colab.research.google.com/assets/colab-badge.svg\" alt=\"Open In Colab\"/></a>"
      ]
    },
    {
      "cell_type": "code",
      "execution_count": null,
      "metadata": {
        "colab": {
          "base_uri": "https://localhost:8080/",
          "height": 695
        },
        "id": "v6KRI5xqAID9",
        "outputId": "00026411-f1d6-44bd-f479-db2898f57a5e"
      },
      "outputs": [
        {
          "ename": "",
          "evalue": "",
          "output_type": "error",
          "traceback": [
            "\u001b[1;31mRunning cells with 'Python 3.12.2' requires the ipykernel package.\n",
            "\u001b[1;31m<a href='command:jupyter.createPythonEnvAndSelectController'>Create a Python Environment</a> with the required packages.\n",
            "\u001b[1;31mOr install 'ipykernel' using the command: '\"c:/Program Files/Python312/python.exe\" -m pip install ipykernel -U --user --force-reinstall'"
          ]
        }
      ],
      "source": [
        "import pandas as pd\n",
        "import numpy as np\n",
        "import matplotlib.pyplot as plt\n",
        "from sklearn.model_selection import train_test_split\n",
        "\n",
        "csv_url = \"https://raw.githubusercontent.com/jbrownlee/Datasets/master/pima-indians-diabetes.data.csv\"\n",
        "\n",
        "columns = [\n",
        "    \"Pregnancies\", \"Glucose\", \"BloodPressure\", \"SkinThickness\",\n",
        "    \"Insulin\", \"BMI\", \"DiabetesPedigreeFunction\", \"Age\", \"Outcome\"\n",
        "]\n",
        "\n",
        "df = pd.read_csv(csv_url, names=columns)\n",
        "\n",
        "X = df.drop(columns=[\"Outcome\"]).values\n",
        "Y = df[\"Outcome\"].values\n",
        "\n",
        "# Train-test split\n",
        "X_train, X_test, Y_train, Y_test = train_test_split(X, Y, test_size=0.2, random_state=42)\n",
        "\n",
        "w = np.zeros(X_train.shape[1])\n",
        "b = 0\n",
        "\n",
        "learning_rate = 0.01\n",
        "epochs = 1000\n",
        "\n",
        "# Functions\n",
        "def compute_z(w, b, X):\n",
        "    return np.dot(w, X.T) + b\n",
        "\n",
        "def sigmoid(z):\n",
        "    return 1 / (1 + np.exp(-z))\n",
        "\n",
        "def compute_cost(Y_true, Y_pred):\n",
        "    m = len(Y_true)\n",
        "    cost = - (1/m) * np.sum(Y_true*np.log(Y_pred + 1e-10) + (1 - Y_true)*np.log(1 - Y_pred + 1e-10))\n",
        "    return cost\n",
        "\n",
        "def compute_gradient(X, Y_true, Y_pred):\n",
        "    m = len(Y_true)\n",
        "    dw = (1/m) * np.dot(X.T, (Y_pred - Y_true))\n",
        "    db = (1/m) * np.sum(Y_pred - Y_true)\n",
        "    return dw, db\n",
        "\n",
        "for epoch in range(epochs):\n",
        "    z = compute_z(w, b, X_train)\n",
        "    Y_pred = sigmoid(z)\n",
        "    cost = compute_cost(Y_train, Y_pred)\n",
        "    dw, db = compute_gradient(X_train, Y_train, Y_pred)\n",
        "\n",
        "    w -= learning_rate * dw\n",
        "    b -= learning_rate * db\n",
        "\n",
        "    if epoch % 100 == 0:\n",
        "        print(f\"Epoch {epoch} | Cost: {cost:.4f}\")\n",
        "\n",
        "z_test = compute_z(w, b, X_test)\n",
        "Y_pred_test = sigmoid(z_test)\n",
        "test_cost = compute_cost(Y_test, Y_pred_test)\n",
        "print(f\"\\nTest Cost: {test_cost:.4f}\")\n",
        "\n",
        "z_train = compute_z(w, b, X_train)\n",
        "sigmoid_train = sigmoid(z_train)\n",
        "\n",
        "sorted_indices = np.argsort(z_train)\n",
        "z_sorted = z_train[sorted_indices]\n",
        "sigmoid_sorted = sigmoid_train[sorted_indices]\n",
        "\n",
        "plt.figure(figsize=(8,5))\n",
        "plt.plot(z_sorted, sigmoid_sorted, marker='o', linestyle='-', color='purple', alpha=0.7)\n",
        "plt.xlabel('Computed z (w·x + b)')\n",
        "plt.ylabel('Sigmoid output')\n",
        "plt.title('Sigmoid Output vs Computed z (Training Data)')\n",
        "plt.grid(True)\n",
        "plt.show()\n"
      ]
    }
  ],
  "metadata": {
    "colab": {
      "authorship_tag": "ABX9TyNgyCfGopGiL234/bmOw4gw",
      "include_colab_link": true,
      "provenance": []
    },
    "kernelspec": {
      "display_name": "Python 3",
      "name": "python3"
    },
    "language_info": {
      "name": "python",
      "version": "3.12.2"
    }
  },
  "nbformat": 4,
  "nbformat_minor": 0
}
